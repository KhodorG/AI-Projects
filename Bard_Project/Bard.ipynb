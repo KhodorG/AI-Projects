{
 "cells": [
  {
   "cell_type": "code",
   "execution_count": null,
   "metadata": {},
   "outputs": [],
   "source": [
    "# Importing Libraries\n",
    "import rpa as r\n",
    "import pandas as pd\n",
    "import time"
   ]
  },
  {
   "cell_type": "code",
   "execution_count": null,
   "metadata": {},
   "outputs": [],
   "source": [
    "# Set pandas option to display the full content of 'fetched_data' column\n",
    "pd.set_option('display.max_colwidth', None)\n",
    "\n",
    "\n",
    "# Initializing Chrome\n",
    "r.init(chrome_browser=True, turbo_mode=True, visual_automation= True)\n",
    "\n",
    "# Reading from the pandas dataframe\n",
    "news = pd.read_csv(\"news-symbol.csv\" , encoding='utf-8')\n",
    "\n",
    "# Add a new column to store the data\n",
    "news['fetched_data'] = ''\n",
    "\n",
    "# Iterate through the 'symbols' column of the 'news' DataFrame\n",
    "for index, row in news.iterrows():\n",
    "    symbol = row['symbol']  # Assuming 'symbol' is the name of the column with symbols\n",
    "    r.url(\"https://bard.google.com/\")\n",
    "    r.keyboard(\"[enter]\")\n",
    "    \n",
    "    # Construct the prompt using the symbol\n",
    "    prompt = f\"{symbol} latest news and tell me the impact of that news if it's positive or negative or neutral\"\n",
    "    \n",
    "    r.type(\"//textarea[@placeholder='Enter a prompt here']\", prompt)\n",
    "    r.keyboard(\"[enter]\")\n",
    "    # r.wait()\n",
    "    time.sleep(3)\n",
    "    r.click(\"//button[@mattooltip='More']\")\n",
    "    r.click(\"//button[@role='menuitem']\")\n",
    "\n",
    "    data = r.clipboard()\n",
    "\n",
    "    # Print the length of the data to check if it's being truncated\n",
    "    print(f\"Length of data for symbol '{symbol}': {len(data)}\")\n",
    "\n",
    "    # Remove newline characters from the fetched data\n",
    "    data = data.replace('\\n', ' ')\n",
    "    news.at[index, 'fetched_data'] = data  # Assign the fetched data to the 'fetched_data' column\n",
    "\n",
    "# Save the 'fetched_data' column to a text file\n",
    "with open('fetched_data.txt', 'w', encoding='utf-8') as text_file:\n",
    "    text_file.write('\\n'.join(news['fetched_data']))\n",
    "\n",
    "\n",
    "# Close the RPA browser\n",
    "r.close()\n",
    "\n",
    "# Now, the 'news' DataFrame contains a new column 'fetched_data' with the fetched data\n",
    "print(news)\n",
    "\n",
    "# Save the modified DataFrame to a CSV file\n",
    "news.to_csv(\"modified.csv\", index=False)"
   ]
  }
 ],
 "metadata": {
  "kernelspec": {
   "display_name": "FinBert-env",
   "language": "python",
   "name": "python3"
  },
  "language_info": {
   "codemirror_mode": {
    "name": "ipython",
    "version": 3
   },
   "file_extension": ".py",
   "mimetype": "text/x-python",
   "name": "python",
   "nbconvert_exporter": "python",
   "pygments_lexer": "ipython3",
   "version": "3.10.12"
  },
  "orig_nbformat": 4
 },
 "nbformat": 4,
 "nbformat_minor": 2
}
